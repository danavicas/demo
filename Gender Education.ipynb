{
    "cells": [
        {
            "cell_type": "code",
            "execution_count": 1,
            "metadata": {},
            "outputs": [
                {
                    "name": "stdout",
                    "output_type": "stream",
                    "text": "+-------------------+-------------------------------------------------------------------+----+--------------------+------+---------+--------------------+\n|                T05|Ratio of girls to boys in primary, secondary and tertiary education| _c2|                 _c3|   _c4|      _c5|                 _c6|\n+-------------------+-------------------------------------------------------------------+----+--------------------+------+---------+--------------------+\n|Region/Country/Area|                                                               null|Year|              Series| Value|Footnotes|              Source|\n|                  1|                                               Total, all countr...|1995|Ratio of girls to...|0.9078|     null|United Nations Ed...|\n|                  1|                                               Total, all countr...|2005|Ratio of girls to...|0.9544|     null|United Nations Ed...|\n|                  1|                                               Total, all countr...|2010|Ratio of girls to...|0.9745|     null|United Nations Ed...|\n|                  1|                                               Total, all countr...|2015|Ratio of girls to...|0.9995|     null|United Nations Ed...|\n+-------------------+-------------------------------------------------------------------+----+--------------------+------+---------+--------------------+\nonly showing top 5 rows\n\n"
                },
                {
                    "data": {
                        "text/plain": "configurationName = os_a20ab590d17c41aa80f206a41d1a23b5_configs\nendpoint_a20ab590d17c41aa80f206a41d1a23b5 = https://s3.private.us.cloud-object-storage.appdomain.cloud\ncos = com.ibm.ibmos2spark.CloudObjectStorage@eb00a89a\nspark = org.apache.spark.sql.SparkSession@13ea4a3c\ndfData1 = [T05: string, Ratio of girls to boys in primary, secondary and tertiary education: string ... 5 more fields]\n"
                    },
                    "metadata": {},
                    "output_type": "display_data"
                },
                {
                    "data": {
                        "text/plain": "getCredentials: ()scala.collection.mutable.HashMap[String,String]\n"
                    },
                    "metadata": {},
                    "output_type": "display_data"
                },
                {
                    "data": {
                        "text/plain": "[T05: string, Ratio of girls to boys in primary, secondary and tertiary education: string ... 5 more fields]"
                    },
                    "execution_count": 1,
                    "metadata": {},
                    "output_type": "execute_result"
                }
            ],
            "source": "// The code was removed by Watson Studio for sharing."
        }
    ],
    "metadata": {
        "kernelspec": {
            "display_name": "Scala 2.12 with Spark",
            "language": "scala",
            "name": "scala"
        },
        "language_info": {
            "codemirror_mode": "text/x-scala",
            "file_extension": ".scala",
            "mimetype": "text/x-scala",
            "name": "scala",
            "pygments_lexer": "scala",
            "version": "2.12.12"
        }
    },
    "nbformat": 4,
    "nbformat_minor": 1
}